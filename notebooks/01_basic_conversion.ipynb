{
 "cells": [
  {
   "cell_type": "markdown",
   "metadata": {},
   "source": [
    "# Testing X to Zarr Conversion\n",
    "\n",
    "Starting with `MIKEConverter` from `src/zarrcatalogue/converters/mike.py`"
   ]
  },
  {
   "cell_type": "code",
   "execution_count": 8,
   "metadata": {},
   "outputs": [],
   "source": [
    "import sys\n",
    "sys.path.append('../src')\n",
    "from pathlib import Path\n",
    "from zarrcatalogue.converters.mike import MIKEConverter\n",
    "import mikeio\n",
    "import numpy as np\n",
    "import zarr\n",
    "\n",
    "# Initialize converter\n",
    "converter = MIKEConverter()\n",
    "\n",
    "# Path to your test data\n",
    "\n",
    "#data_path = Path('/teamspace/studios/this_studio/data/basin_2dv.dfsu')\n",
    "#data_path = Path('/teamspace/studios/this_studio/data/basin_3d.dfsu')\n",
    "#data_path = Path('/teamspace/studios/this_studio/data/oresund_sigma_z.dfsu')\n",
    "data_path = Path('/teamspace/studios/this_studio/data/oresundHD_run1.dfsu')\n",
    "\n",
    "zarr_path = Path('/teamspace/studios/this_studio/data_zarr/oresundHD_run1.zarr')"
   ]
  },
  {
   "cell_type": "code",
   "execution_count": 9,
   "metadata": {},
   "outputs": [
    {
     "name": "stdout",
     "output_type": "stream",
     "text": [
      "\n",
      "Conversion metadata:\n",
      "model_type: MIKE\n",
      "converter_version: 0.1.0\n",
      "conversion_time: 2024-12-10T15:05:38.288162\n",
      "input_file: /teamspace/studios/this_studio/data/oresundHD_run1.dfsu\n",
      "mikeio_version: 2.2.0\n",
      "geometry_type: GeometryFM2D\n",
      "n_elements: 3612\n",
      "n_nodes: 2046\n",
      "n_timesteps: 5\n",
      "variables: ['Surface elevation', 'Total water depth', 'U velocity', 'V velocity']\n",
      "time_range: ['2018-03-07 00:00:00', '2018-03-11 00:00:00']\n",
      "element_info: {'max_nodes_per_element': 3, 'min_nodes_per_element': 3, 'element_types_present': [3], 'n_elements_3_nodes': 3612}\n",
      "chunks: {'time': 2, 'elements': 320}\n",
      "compression_level: 7\n",
      "\n",
      "Validation results:\n",
      "element_count_match: True\n",
      "node_count_match: True\n",
      "time_steps_match: True\n",
      "variables_match: True\n",
      "geometry_type_match: True\n",
      "all_valid: True\n",
      "\n",
      "Zarr structure:\n",
      "/\n",
      " ├── data\n",
      " │   ├── Surface elevation (5, 3612) float32\n",
      " │   ├── Total water depth (5, 3612) float32\n",
      " │   ├── U velocity (5, 3612) float32\n",
      " │   ├── V velocity (5, 3612) float32\n",
      " │   └── time (5,) float64\n",
      " └── topology\n",
      "     ├── element_coordinates (3612, 3) float64\n",
      "     ├── elements (3612, 3) int32\n",
      "     └── nodes (2046, 3) float64\n",
      "\n",
      "Data validation:\n",
      "\n",
      "Comparing Surface elevation data:\n",
      "Original shape: (3612,)\n",
      "Zarr shape: (3612,)\n",
      "Max difference: 0.0\n"
     ]
    }
   ],
   "source": [
    "# Convert file with custom chunks and compression\n",
    "chunks = {'time': 2, 'elements': 320}  # Example chunking\n",
    "metadata = converter.to_zarr(\n",
    "    data_path, \n",
    "    zarr_path,\n",
    "    chunks=chunks,\n",
    "    compression_level=7\n",
    ")\n",
    "\n",
    "# Print metadata\n",
    "print(\"\\nConversion metadata:\")\n",
    "for key, value in metadata.items():\n",
    "    print(f\"{key}: {value}\")\n",
    "\n",
    "# Validate conversion\n",
    "validation_results = converter.validate_conversion(data_path, zarr_path)\n",
    "print(\"\\nValidation results:\")\n",
    "for key, value in validation_results.items():\n",
    "    print(f\"{key}: {value}\")\n",
    "\n",
    "# Examine Zarr structure\n",
    "store = zarr.open(zarr_path, 'r')\n",
    "print(\"\\nZarr structure:\")\n",
    "print(store.tree())\n",
    "\n",
    "# Basic data validation\n",
    "print(\"\\nData validation:\")\n",
    "original_ds = mikeio.read(data_path)\n",
    "zarr_store = zarr.open(zarr_path, 'r')\n",
    "\n",
    "# Compare first timestep of first variable\n",
    "var_name = original_ds.names[0]\n",
    "original_data = original_ds[var_name].to_numpy()[0]\n",
    "zarr_data = zarr_store[f'data/{var_name}'][0]\n",
    "\n",
    "print(f\"\\nComparing {var_name} data:\")\n",
    "print(f\"Original shape: {original_data.shape}\")\n",
    "print(f\"Zarr shape: {zarr_data.shape}\")\n",
    "print(f\"Max difference: {np.max(np.abs(original_data - zarr_data))}\")"
   ]
  },
  {
   "cell_type": "markdown",
   "metadata": {},
   "source": [
    "# Adding to catalogue \n",
    "\n",
    "## single file"
   ]
  },
  {
   "cell_type": "code",
   "execution_count": 2,
   "metadata": {},
   "outputs": [],
   "source": [
    "import sys\n",
    "sys.path.append('../src')\n",
    "# Example usage with proper JSON serialization\n",
    "from pathlib import Path\n",
    "from zarrcatalogue.catalog import SimulationCatalog\n",
    "import json\n",
    "\n",
    "# First, let's clean up any corrupted files\n",
    "import shutil\n",
    "from pathlib import Path\n",
    "\n",
    "catalog_path = Path(\"/teamspace/studios/this_studio/catalog\")\n",
    "if catalog_path.exists():\n",
    "    shutil.rmtree(catalog_path)\n",
    "\n",
    "# Initialize catalog\n",
    "catalog = SimulationCatalog(catalog_path)\n"
   ]
  },
  {
   "cell_type": "code",
   "execution_count": 3,
   "metadata": {},
   "outputs": [
    {
     "name": "stdout",
     "output_type": "stream",
     "text": [
      "Added simulation:\n",
      "{\n",
      "  \"id\": \"basin_2dv_20241210\",\n",
      "  \"source_file\": \"/teamspace/studios/this_studio/data/basin_2dv.dfsu\",\n",
      "  \"zarr_store\": \"/teamspace/studios/this_studio/catalog/simulations/basin_2dv_20241210/data.zarr\",\n",
      "  \"added_date\": \"2024-12-10T16:14:06.585226\",\n",
      "  \"converter\": \"MIKE\",\n",
      "  \"converter_version\": \"0.1.0\",\n",
      "  \"conversion_metadata\": {\n",
      "    \"model_type\": \"MIKE\",\n",
      "    \"converter_version\": \"0.1.0\",\n",
      "    \"conversion_time\": \"2024-12-10T16:14:06.584966\",\n",
      "    \"input_file\": \"/teamspace/studios/this_studio/data/basin_2dv.dfsu\",\n",
      "    \"mikeio_version\": \"2.2.0\",\n",
      "    \"geometry_type\": \"GeometryFMVerticalProfile\",\n",
      "    \"n_elements\": 640,\n",
      "    \"n_nodes\": 715,\n",
      "    \"n_timesteps\": 3,\n",
      "    \"variables\": [\n",
      "      \"U velocity\",\n",
      "      \"V velocity\",\n",
      "      \"W velocity\"\n",
      "    ],\n",
      "    \"time_range\": [\n",
      "      \"2004-01-01 00:00:00\",\n",
      "      \"2004-01-01 00:20:00\"\n",
      "    ],\n",
      "    \"element_info\": {\n",
      "      \"max_nodes_per_element\": 4,\n",
      "      \"min_nodes_per_element\": 4,\n",
      "      \"element_types_present\": [\n",
      "        4\n",
      "      ],\n",
      "      \"n_elements_4_nodes\": 640\n",
      "    },\n",
      "    \"chunks\": {\n",
      "      \"time\": 3,\n",
      "      \"elements\": -1\n",
      "    },\n",
      "    \"compression_level\": 5\n",
      "  },\n",
      "  \"user_metadata\": {\n",
      "    \"scenario\": \"baseline\",\n",
      "    \"model_version\": \"2.2.0\",\n",
      "    \"description\": \"Vertical profile simulation\"\n",
      "  },\n",
      "  \"tags\": [\n",
      "    \"vertical_profile\",\n",
      "    \"baseline\"\n",
      "  ]\n",
      "}\n"
     ]
    }
   ],
   "source": [
    "\n",
    "# Add a simulation\n",
    "simulation_entry = catalog.add_simulation(\n",
    "    sim_id=\"basin_2dv_20241210\",\n",
    "    source_file=Path('/teamspace/studios/this_studio/data/basin_2dv.dfsu'),\n",
    "    metadata={\n",
    "        \"scenario\": \"baseline\",\n",
    "        \"model_version\": \"2.2.0\",\n",
    "        \"description\": \"Vertical profile simulation\"\n",
    "    },\n",
    "    tags=[\"vertical_profile\", \"baseline\"]\n",
    ")\n",
    "\n",
    "# Print the entry using the custom encoder\n",
    "print(\"Added simulation:\")\n",
    "print(json.dumps(simulation_entry, indent=2, cls=CustomJSONEncoder))"
   ]
  },
  {
   "cell_type": "markdown",
   "metadata": {},
   "source": [
    "## Bulk"
   ]
  },
  {
   "cell_type": "code",
   "execution_count": 7,
   "metadata": {},
   "outputs": [
    {
     "name": "stdout",
     "output_type": "stream",
     "text": [
      "Found 4 files to process\n",
      "4 files remaining after removing existing entries\n"
     ]
    },
    {
     "name": "stderr",
     "output_type": "stream",
     "text": [
      "Processing files: 100%|██████████| 4/4 [00:00<00:00,  7.40it/s]"
     ]
    },
    {
     "name": "stdout",
     "output_type": "stream",
     "text": [
      "\n",
      "Import Summary:\n",
      "Successful imports: 4\n",
      "Failed imports: 0\n",
      "\n",
      "Successfully imported simulations:\n",
      "- basin_2dv: /teamspace/studios/this_studio/data/basin_2dv.dfsu\n",
      "- basin_3d: /teamspace/studios/this_studio/data/basin_3d.dfsu\n",
      "- oresundHD_run1: /teamspace/studios/this_studio/data/oresundHD_run1.dfsu\n",
      "- oresund_sigma_z: /teamspace/studios/this_studio/data/oresund_sigma_z.dfsu\n"
     ]
    },
    {
     "name": "stderr",
     "output_type": "stream",
     "text": [
      "\n"
     ]
    }
   ],
   "source": [
    "import sys\n",
    "sys.path.append('../src')\n",
    "# Example usage with proper JSON serialization\n",
    "from pathlib import Path\n",
    "from zarrcatalogue.catalog import SimulationCatalog\n",
    "import json\n",
    "\n",
    "from typing import Dict\n",
    "from datetime import datetime\n",
    "\n",
    "\n",
    "# Initialize catalog\n",
    "catalog = SimulationCatalog(Path(\"/teamspace/studios/this_studio/catalog\"))\n",
    "\n",
    "# Optional: Define a metadata generator function\n",
    "def generate_metadata(file_path: Path) -> Dict:\n",
    "    \"\"\"Generate metadata from file path.\"\"\"\n",
    "    return {\n",
    "        \"source_file\": str(file_path),\n",
    "        \"scenario\": file_path.stem.split('_')[0],\n",
    "        \"date_processed\": datetime.now().isoformat()\n",
    "    }\n",
    "\n",
    "# Bulk import simulations\n",
    "results = catalog.bulk_import(\n",
    "    source_dir=Path(\"/teamspace/studios/this_studio/data\"),\n",
    "    pattern=\"*.dfsu\",\n",
    "    metadata_generator=generate_metadata,\n",
    "    tags=[\"bulk_import\", \"2024\"],\n",
    "    parallel=True,\n",
    "    max_workers=4,\n",
    "    skip_existing=True\n",
    ")\n",
    "\n",
    "# Print successful imports\n",
    "print(\"\\nSuccessfully imported simulations:\")\n",
    "for entry in results[\"successful\"]:\n",
    "    print(f\"- {entry['id']}: {entry['source_file']}\")"
   ]
  },
  {
   "cell_type": "markdown",
   "metadata": {},
   "source": [
    "# Search, Analyze catalogue\n",
    "\n",
    "## summary / overview"
   ]
  },
  {
   "cell_type": "code",
   "execution_count": 4,
   "metadata": {},
   "outputs": [],
   "source": [
    "from zarrcatalogue.catalog import SimulationCatalog\n",
    "\n",
    "catalog = SimulationCatalog(Path(\"/teamspace/studios/this_studio/catalog\"))"
   ]
  },
  {
   "cell_type": "code",
   "execution_count": 5,
   "metadata": {},
   "outputs": [
    {
     "name": "stdout",
     "output_type": "stream",
     "text": [
      "{'n_simulations': 5, 'geometry_types': ['GeometryFM2D', 'GeometryFM3D', 'GeometryFMVerticalProfile'], 'variables': ['Salinity', 'Surface elevation', 'Temperature', 'Total water depth', 'U velocity', 'V velocity', 'W velocity'], 'tags': ['2024', 'baseline', 'bulk_import', 'vertical_profile'], 'last_updated': '2024-12-10T16:17:47.421943'}\n"
     ]
    }
   ],
   "source": [
    "print(catalog.get_summary())"
   ]
  },
  {
   "cell_type": "markdown",
   "metadata": {},
   "source": [
    "## search"
   ]
  },
  {
   "cell_type": "code",
   "execution_count": 6,
   "metadata": {},
   "outputs": [
    {
     "data": {
      "text/html": [
       "<div>\n",
       "<style scoped>\n",
       "    .dataframe tbody tr th:only-of-type {\n",
       "        vertical-align: middle;\n",
       "    }\n",
       "\n",
       "    .dataframe tbody tr th {\n",
       "        vertical-align: top;\n",
       "    }\n",
       "\n",
       "    .dataframe thead th {\n",
       "        text-align: right;\n",
       "    }\n",
       "</style>\n",
       "<table border=\"1\" class=\"dataframe\">\n",
       "  <thead>\n",
       "    <tr style=\"text-align: right;\">\n",
       "      <th></th>\n",
       "      <th>simulation_id</th>\n",
       "      <th>id</th>\n",
       "      <th>source_file</th>\n",
       "      <th>zarr_store</th>\n",
       "      <th>added_date</th>\n",
       "      <th>converter</th>\n",
       "      <th>converter_version</th>\n",
       "      <th>conversion_metadata</th>\n",
       "      <th>user_metadata</th>\n",
       "      <th>tags</th>\n",
       "    </tr>\n",
       "  </thead>\n",
       "  <tbody>\n",
       "    <tr>\n",
       "      <th>0</th>\n",
       "      <td>oresundHD_run1</td>\n",
       "      <td>oresundHD_run1</td>\n",
       "      <td>/teamspace/studios/this_studio/data/oresundHD_...</td>\n",
       "      <td>/teamspace/studios/this_studio/catalog/simulat...</td>\n",
       "      <td>2024-12-10T16:17:47.349039</td>\n",
       "      <td>MIKE</td>\n",
       "      <td>0.1.0</td>\n",
       "      <td>{'model_type': 'MIKE', 'converter_version': '0...</td>\n",
       "      <td>{'source_file': '/teamspace/studios/this_studi...</td>\n",
       "      <td>[bulk_import, 2024]</td>\n",
       "    </tr>\n",
       "  </tbody>\n",
       "</table>\n",
       "</div>"
      ],
      "text/plain": [
       "    simulation_id              id  \\\n",
       "0  oresundHD_run1  oresundHD_run1   \n",
       "\n",
       "                                         source_file  \\\n",
       "0  /teamspace/studios/this_studio/data/oresundHD_...   \n",
       "\n",
       "                                          zarr_store  \\\n",
       "0  /teamspace/studios/this_studio/catalog/simulat...   \n",
       "\n",
       "                   added_date converter converter_version  \\\n",
       "0  2024-12-10T16:17:47.349039      MIKE             0.1.0   \n",
       "\n",
       "                                 conversion_metadata  \\\n",
       "0  {'model_type': 'MIKE', 'converter_version': '0...   \n",
       "\n",
       "                                       user_metadata                 tags  \n",
       "0  {'source_file': '/teamspace/studios/this_studi...  [bulk_import, 2024]  "
      ]
     },
     "execution_count": 6,
     "metadata": {},
     "output_type": "execute_result"
    }
   ],
   "source": [
    "# Search catalog\n",
    "results = catalog.search(\n",
    "    geometry_type=\"GeometryFM2D\",\n",
    "    #variables=[\"U velocity\"],\n",
    "    #tags=[\"baseline\"]\n",
    ")\n",
    "results\n"
   ]
  },
  {
   "cell_type": "markdown",
   "metadata": {},
   "source": [
    "# Zarr to MIKE Conversion"
   ]
  },
  {
   "cell_type": "code",
   "execution_count": 7,
   "metadata": {},
   "outputs": [],
   "source": [
    "import sys\n",
    "sys.path.append('../src')\n",
    "from pathlib import Path\n",
    "from zarrcatalogue.converters.mike import MIKEConverter\n",
    "\n",
    "\n",
    "converter = MIKEConverter()\n",
    "metadata = converter.from_zarr(\n",
    "    #zarr_path=Path(\"/teamspace/studios/this_studio/catalog/simulations/basin_2dv/data.zarr\"),\n",
    "    #output_file=Path(\"/teamspace/studios/this_studio/data/basin_2dv_backconversion.dfsu\")\n",
    "    zarr_path=Path(\"/teamspace/studios/this_studio/catalog/simulations/oresundHD_run1/data.zarr\"),\n",
    "    output_file=Path(\"/teamspace/studios/this_studio/data/oresundHD_run1_backconversion.dfsu\")\n",
    ")"
   ]
  },
  {
   "cell_type": "code",
   "execution_count": 12,
   "metadata": {},
   "outputs": [
    {
     "data": {
      "text/plain": [
       "<mikeio.Dataset>\n",
       "dims: (time:5, element:3612)\n",
       "time: 2018-03-07 00:00:00 - 2018-03-11 00:00:00 (5 records)\n",
       "geometry: Dfsu2D (3612 elements, 2046 nodes)\n",
       "items:\n",
       "  0:  Surface elevation <Surface Elevation> (meter)\n",
       "  1:  Total water depth <Water Depth> (meter)\n",
       "  2:  U velocity <u velocity component> (meter per sec)\n",
       "  3:  V velocity <v velocity component> (meter per sec)"
      ]
     },
     "metadata": {},
     "output_type": "display_data"
    },
    {
     "data": {
      "text/plain": [
       "<mikeio.Dataset>\n",
       "dims: (time:5, element:3612)\n",
       "time: 2018-03-07 00:00:00 - 2018-03-11 00:00:00 (5 records)\n",
       "geometry: Dfsu2D (3612 elements, 2046 nodes)\n",
       "items:\n",
       "  0:  Surface elevation <Surface Elevation> (meter)\n",
       "  1:  Total water depth <Water Depth> (meter)\n",
       "  2:  U velocity <u velocity component> (meter per sec)\n",
       "  3:  V velocity <v velocity component> (meter per sec)"
      ]
     },
     "metadata": {},
     "output_type": "display_data"
    }
   ],
   "source": [
    "# reload the converted file and compare to original\n",
    "import mikeio\n",
    "\n",
    "ds = mikeio.read(\"/teamspace/studios/this_studio/data/oresundHD_run1.dfsu\")\n",
    "ds_backconversion = mikeio.read(\"/teamspace/studios/this_studio/data/oresundHD_run1_backconversion.dfsu\")\n",
    "display(ds, ds_backconversion)"
   ]
  }
 ],
 "metadata": {
  "language_info": {
   "name": "python"
  }
 },
 "nbformat": 4,
 "nbformat_minor": 2
}
