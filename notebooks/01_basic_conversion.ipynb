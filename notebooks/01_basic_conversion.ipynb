{
 "cells": [
  {
   "cell_type": "markdown",
   "metadata": {},
   "source": [
    "# 1. dfsu-Zarr-dfsu conversion\n",
    "\n",
    "Starting with `MIKEConverter` from `src/zarrcatalogue/converters/mike.py`"
   ]
  },
  {
   "cell_type": "code",
   "execution_count": 12,
   "metadata": {},
   "outputs": [],
   "source": [
    "# required imports\n",
    "import sys\n",
    "sys.path.append('../src')\n",
    "from pathlib import Path\n",
    "from zarrcatalogue.converters.mike import MIKEConverter\n",
    "from zarrcatalogue.utils import analyze_zarr_storage\n",
    "\n",
    "import mikeio\n",
    "import numpy as np\n",
    "import zarr"
   ]
  },
  {
   "cell_type": "code",
   "execution_count": 13,
   "metadata": {},
   "outputs": [],
   "source": [
    "# Initialize converter\n",
    "converter = MIKEConverter()\n",
    "\n",
    "data_path = Path('../tests/testdata/oresundHD_run1.dfsu')\n",
    "#data_path = Path('/teamspace/studios/this_studio/DataCatalogue/tests/testdata/oresundHD_run1.dfsu')\n",
    "\n",
    "zarr_path = Path('oresundHD_run1.zarr')\n",
    "#zarr_path = Path('/teamspace/studios/this_studio/oresundHD_run1.zarr')"
   ]
  },
  {
   "cell_type": "markdown",
   "metadata": {},
   "source": [
    "### convert single file from dfsu to zarr"
   ]
  },
  {
   "cell_type": "code",
   "execution_count": 2,
   "metadata": {},
   "outputs": [],
   "source": [
    "# Convert file with custom chunks and compression\n",
    "chunks = {'time': 2, 'elements': 320}  # Example chunking\n",
    "metadata = converter.to_zarr(\n",
    "    data_path, \n",
    "    zarr_path,\n",
    "    chunks=chunks,\n",
    "    compression_level=7\n",
    ")"
   ]
  },
  {
   "cell_type": "markdown",
   "metadata": {},
   "source": [
    "check results of conversion to assess whether or not chunking was suitable for a problem"
   ]
  },
  {
   "cell_type": "code",
   "execution_count": 3,
   "metadata": {},
   "outputs": [
    {
     "name": "stdout",
     "output_type": "stream",
     "text": [
      "Total number of files: 19\n",
      "Total size: 384.86 KB\n"
     ]
    }
   ],
   "source": [
    "stats = analyze_zarr_storage(zarr_path)\n",
    "\n",
    "# Display results\n",
    "print(f\"Total number of files: {stats['total_files']}\")\n",
    "print(f\"Total size: {stats['total_size_formatted']}\")"
   ]
  },
  {
   "cell_type": "markdown",
   "metadata": {},
   "source": [
    "### convert from zarr (back) to dfsu\n",
    "\n",
    "and check consistency of output"
   ]
  },
  {
   "cell_type": "code",
   "execution_count": 3,
   "metadata": {},
   "outputs": [
    {
     "data": {
      "text/plain": [
       "{'model_type': 'MIKE',\n",
       " 'converter_version': '0.1.0',\n",
       " 'conversion_time': '2025-04-01T09:33:15.809831',\n",
       " 'input_file': '/teamspace/studios/this_studio/oresundHD_run1.zarr',\n",
       " 'output_file': 'foo.dfsu',\n",
       " 'mikeio_version': '2.4.0',\n",
       " 'geometry_type': 'GeometryFM2D',\n",
       " 'n_elements': 3612,\n",
       " 'n_nodes': 2046,\n",
       " 'n_timesteps': 5,\n",
       " 'variables': ['Total water depth',\n",
       "  'V velocity',\n",
       "  'U velocity',\n",
       "  'Surface elevation'],\n",
       " 'time_range': ['2018-03-07 00:00:00', '2018-03-11 00:00:00']}"
      ]
     },
     "execution_count": 3,
     "metadata": {},
     "output_type": "execute_result"
    }
   ],
   "source": [
    "converter.from_zarr(zarr_path, \"foo.dfsu\")"
   ]
  },
  {
   "cell_type": "code",
   "execution_count": 9,
   "metadata": {},
   "outputs": [
    {
     "data": {
      "text/plain": [
       "<mikeio.Dfsu2DH>\n",
       "number of elements: 3612\n",
       "number of nodes: 2046\n",
       "projection: UTM-33\n",
       "items:\n",
       "  0:  Surface elevation <Surface Elevation> (meter)\n",
       "  1:  Total water depth <Water Depth> (meter)\n",
       "  2:  U velocity <u velocity component> (meter per sec)\n",
       "  3:  V velocity <v velocity component> (meter per sec)\n",
       "time: 2018-03-07 00:00:00 - 2018-03-11 00:00:00 (5 records)"
      ]
     },
     "metadata": {},
     "output_type": "display_data"
    },
    {
     "data": {
      "text/plain": [
       "<mikeio.Dfsu2DH>\n",
       "number of elements: 3612\n",
       "number of nodes: 2046\n",
       "projection: UTM-33\n",
       "items:\n",
       "  0:  Surface elevation <Surface Elevation> (meter)\n",
       "  1:  Total water depth <Water Depth> (meter)\n",
       "  2:  U velocity <u velocity component> (meter per sec)\n",
       "  3:  V velocity <v velocity component> (meter per sec)\n",
       "time: 2018-03-07 00:00:00 - 2018-03-11 00:00:00 (5 records)"
      ]
     },
     "metadata": {},
     "output_type": "display_data"
    },
    {
     "data": {
      "text/plain": [
       "TimedeltaIndex([NaT, '1 days'], dtype='timedelta64[ns]', freq=None)"
      ]
     },
     "metadata": {},
     "output_type": "display_data"
    }
   ],
   "source": [
    "display(mikeio.open(data_path), mikeio.open(\"foo.dfsu\"))\n",
    "display(mikeio.open(\"foo.dfsu\").time.diff().unique()) # timesteps"
   ]
  },
  {
   "cell_type": "markdown",
   "metadata": {},
   "source": [
    "------\n",
    "\n",
    "# 2. Building a Data catalogue \n",
    "\n",
    "A data catalogue can basically include all data, from observed timeseries to simulation results in 1D, 2D, 3D.\n",
    "All data will be automatically labeled with metadata during conversion. Optional metadata can be added by the user. \n",
    "The goal is to have everything 1. quickly searchable and 2. accessible from a single source. \n"
   ]
  },
  {
   "cell_type": "markdown",
   "metadata": {},
   "source": [
    "## Initialize Catalogue\n"
   ]
  },
  {
   "cell_type": "code",
   "execution_count": 17,
   "metadata": {},
   "outputs": [],
   "source": [
    "from zarrcatalogue.catalog import SimulationCatalog, CustomJSONEncoder\n",
    "import json\n",
    "import shutil\n",
    "\n",
    "catalog_path = Path(\"catalog\") # will create a folder \"catalog\" in the specified path\n",
    "\n",
    "if catalog_path.exists():\n",
    "    shutil.rmtree(catalog_path)\n",
    "\n",
    "# Initialize catalog\n",
    "catalog = SimulationCatalog(catalog_path)"
   ]
  },
  {
   "cell_type": "markdown",
   "metadata": {},
   "source": [
    "### add single simulation\n",
    "\n",
    "with custom metadata and tags"
   ]
  },
  {
   "cell_type": "code",
   "execution_count": 18,
   "metadata": {},
   "outputs": [
    {
     "name": "stdout",
     "output_type": "stream",
     "text": [
      "Added simulation:\n",
      "{\n",
      "  \"id\": \"oresundHD_run1\",\n",
      "  \"source_file\": \"/teamspace/studios/this_studio/DataCatalogue/tests/testdata/oresundHD_run1.dfsu\",\n",
      "  \"zarr_store\": \"catalog/simulations/oresundHD_run1/data.zarr\",\n",
      "  \"added_date\": \"2025-04-01T12:24:29.849847\",\n",
      "  \"converter\": \"MIKE\",\n",
      "  \"converter_version\": \"0.1.0\",\n",
      "  \"conversion_metadata\": {\n",
      "    \"model_type\": \"MIKE\",\n",
      "    \"converter_version\": \"0.1.0\",\n",
      "    \"conversion_time\": \"2025-04-01T12:24:29.842667\",\n",
      "    \"input_file\": \"/teamspace/studios/this_studio/DataCatalogue/tests/testdata/oresundHD_run1.dfsu\",\n",
      "    \"mikeio_version\": \"2.4.0\",\n",
      "    \"geometry_type\": \"GeometryFM2D\",\n",
      "    \"n_elements\": 3612,\n",
      "    \"n_nodes\": 2046,\n",
      "    \"n_timesteps\": 5,\n",
      "    \"variables\": [\n",
      "      \"Surface elevation\",\n",
      "      \"Total water depth\",\n",
      "      \"U velocity\",\n",
      "      \"V velocity\"\n",
      "    ],\n",
      "    \"time_range\": [\n",
      "      \"2018-03-07 00:00:00\",\n",
      "      \"2018-03-11 00:00:00\"\n",
      "    ],\n",
      "    \"element_info\": {\n",
      "      \"max_nodes_per_element\": 3,\n",
      "      \"min_nodes_per_element\": 3,\n",
      "      \"element_types_present\": [\n",
      "        3\n",
      "      ],\n",
      "      \"n_elements_3_nodes\": 3612\n",
      "    },\n",
      "    \"chunks\": {\n",
      "      \"time\": 5,\n",
      "      \"elements\": -1\n",
      "    },\n",
      "    \"compression_level\": 5\n",
      "  },\n",
      "  \"user_metadata\": {\n",
      "    \"scenario\": \"baseline\",\n",
      "    \"model_version\": \"1.0\",\n",
      "    \"description\": \"Oresund simulation\"\n",
      "  },\n",
      "  \"tags\": [\n",
      "    \"2D\",\n",
      "    \"HD\",\n",
      "    \"baseline\"\n",
      "  ]\n",
      "}\n"
     ]
    }
   ],
   "source": [
    "# Add a simulation\n",
    "simulation_entry = catalog.add_simulation(\n",
    "    sim_id=\"oresundHD_run1\",\n",
    "    source_file=data_path, # reusing from above\n",
    "    metadata={\n",
    "        \"scenario\": \"baseline\",\n",
    "        \"model_version\": \"1.0\",\n",
    "        \"description\": \"Oresund simulation\"\n",
    "    },\n",
    "    tags=[\"2D\", \"HD\", \"baseline\", \"Bathymetry2017\"]\n",
    ")\n",
    "\n",
    "# Print the entry using the custom encoder\n",
    "print(\"Added simulation:\")\n",
    "print(json.dumps(simulation_entry, indent=2, cls=CustomJSONEncoder))"
   ]
  },
  {
   "cell_type": "markdown",
   "metadata": {},
   "source": [
    "### Import in bulk to catalogue"
   ]
  },
  {
   "cell_type": "code",
   "execution_count": null,
   "metadata": {},
   "outputs": [],
   "source": [
    "#from typing import Dict\n",
    "#from datetime import datetime\n",
    "\n",
    "\n",
    "# Optional: Define a metadata generator function\n",
    "def generate_metadata(file_path: Path) -> Dict:\n",
    "    \"\"\"Generate metadata from file path.\"\"\"\n",
    "    return {\n",
    "        \"source_file\": str(file_path),\n",
    "        \"scenario\": file_path.stem.split('_')[0],\n",
    "        \"date_processed\": datetime.now().isoformat()\n",
    "    }\n",
    "\n",
    "# Bulk import simulations\n",
    "results = catalog.bulk_import(\n",
    "    source_dir=Path(\"/teamspace/studios/this_studio/data\"),\n",
    "    pattern=\"*.dfsu\",\n",
    "    metadata_generator=generate_metadata,\n",
    "    tags=[\"bulk_import\", \"2025\"],\n",
    "    parallel=True,\n",
    "    max_workers=4,\n",
    "    skip_existing=True\n",
    ")\n",
    "\n",
    "# Print successful imports\n",
    "print(\"\\nSuccessfully imported simulations:\")\n",
    "for entry in results[\"successful\"]:\n",
    "    print(f\"- {entry['id']}: {entry['source_file']}\")"
   ]
  },
  {
   "cell_type": "markdown",
   "metadata": {},
   "source": [
    "-----\n",
    "\n",
    "# 3. Search and analyze catalogue\n",
    "\n",
    "#### get summary"
   ]
  },
  {
   "cell_type": "code",
   "execution_count": 21,
   "metadata": {},
   "outputs": [
    {
     "data": {
      "text/plain": [
       "{'n_simulations': 1,\n",
       " 'geometry_types': ['GeometryFM2D'],\n",
       " 'variables': ['Surface elevation',\n",
       "  'Total water depth',\n",
       "  'U velocity',\n",
       "  'V velocity'],\n",
       " 'tags': ['2D', 'HD', 'baseline'],\n",
       " 'last_updated': '2025-04-01T12:24:29.849862'}"
      ]
     },
     "execution_count": 21,
     "metadata": {},
     "output_type": "execute_result"
    }
   ],
   "source": [
    "catalog.get_summary()"
   ]
  },
  {
   "cell_type": "markdown",
   "metadata": {},
   "source": [
    "#### search\n",
    "\n",
    "by metadata attributes, tags or recency"
   ]
  },
  {
   "cell_type": "code",
   "execution_count": 20,
   "metadata": {},
   "outputs": [
    {
     "data": {
      "text/html": [
       "<div>\n",
       "<style scoped>\n",
       "    .dataframe tbody tr th:only-of-type {\n",
       "        vertical-align: middle;\n",
       "    }\n",
       "\n",
       "    .dataframe tbody tr th {\n",
       "        vertical-align: top;\n",
       "    }\n",
       "\n",
       "    .dataframe thead th {\n",
       "        text-align: right;\n",
       "    }\n",
       "</style>\n",
       "<table border=\"1\" class=\"dataframe\">\n",
       "  <thead>\n",
       "    <tr style=\"text-align: right;\">\n",
       "      <th></th>\n",
       "      <th>simulation_id</th>\n",
       "      <th>id</th>\n",
       "      <th>source_file</th>\n",
       "      <th>zarr_store</th>\n",
       "      <th>added_date</th>\n",
       "      <th>converter</th>\n",
       "      <th>converter_version</th>\n",
       "      <th>conversion_metadata</th>\n",
       "      <th>user_metadata</th>\n",
       "      <th>tags</th>\n",
       "    </tr>\n",
       "  </thead>\n",
       "  <tbody>\n",
       "    <tr>\n",
       "      <th>0</th>\n",
       "      <td>oresundHD_run1</td>\n",
       "      <td>oresundHD_run1</td>\n",
       "      <td>/teamspace/studios/this_studio/DataCatalogue/t...</td>\n",
       "      <td>catalog/simulations/oresundHD_run1/data.zarr</td>\n",
       "      <td>2025-04-01T12:24:29.849847</td>\n",
       "      <td>MIKE</td>\n",
       "      <td>0.1.0</td>\n",
       "      <td>{'model_type': 'MIKE', 'converter_version': '0...</td>\n",
       "      <td>{'scenario': 'baseline', 'model_version': '1.0...</td>\n",
       "      <td>[2D, HD, baseline]</td>\n",
       "    </tr>\n",
       "  </tbody>\n",
       "</table>\n",
       "</div>"
      ],
      "text/plain": [
       "    simulation_id              id  \\\n",
       "0  oresundHD_run1  oresundHD_run1   \n",
       "\n",
       "                                         source_file  \\\n",
       "0  /teamspace/studios/this_studio/DataCatalogue/t...   \n",
       "\n",
       "                                     zarr_store                  added_date  \\\n",
       "0  catalog/simulations/oresundHD_run1/data.zarr  2025-04-01T12:24:29.849847   \n",
       "\n",
       "  converter converter_version  \\\n",
       "0      MIKE             0.1.0   \n",
       "\n",
       "                                 conversion_metadata  \\\n",
       "0  {'model_type': 'MIKE', 'converter_version': '0...   \n",
       "\n",
       "                                       user_metadata                tags  \n",
       "0  {'scenario': 'baseline', 'model_version': '1.0...  [2D, HD, baseline]  "
      ]
     },
     "execution_count": 20,
     "metadata": {},
     "output_type": "execute_result"
    }
   ],
   "source": [
    "# Search catalog\n",
    "results = catalog.search(\n",
    "    geometry_type=\"GeometryFM2D\",\n",
    "    #variables=[\"U velocity\"],\n",
    "    #tags=[\"baseline\"],\n",
    ")\n",
    "results\n"
   ]
  }
 ],
 "metadata": {
  "kernelspec": {
   "display_name": "cloudspace",
   "language": "python",
   "name": "python3"
  },
  "language_info": {
   "codemirror_mode": {
    "name": "ipython",
    "version": 3
   },
   "file_extension": ".py",
   "mimetype": "text/x-python",
   "name": "python",
   "nbconvert_exporter": "python",
   "pygments_lexer": "ipython3",
   "version": "3.13.0"
  }
 },
 "nbformat": 4,
 "nbformat_minor": 2
}
