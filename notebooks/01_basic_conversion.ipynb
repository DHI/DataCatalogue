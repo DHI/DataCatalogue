{
 "cells": [
  {
   "cell_type": "markdown",
   "metadata": {},
   "source": [
    "# Testing X to Zarr Conversion\n",
    "\n",
    "Starting with `MIKEConverter` from `src/zarrcatalogue/converters/mike.py`"
   ]
  },
  {
   "cell_type": "code",
   "execution_count": 1,
   "metadata": {},
   "outputs": [],
   "source": [
    "import sys\n",
    "sys.path.append('../src')\n",
    "from pathlib import Path\n",
    "from zarrcatalogue.converters.mike import MIKEConverter\n",
    "import mikeio\n",
    "import numpy as np\n",
    "import zarr\n",
    "\n",
    "# Initialize converter\n",
    "converter = MIKEConverter()\n",
    "\n",
    "data_path = Path('../tests/testdata/oresundHD_run1.dfsu')\n",
    "\n",
    "zarr_path = Path('oresundHD_run1.zarr')"
   ]
  },
  {
   "cell_type": "code",
   "execution_count": 2,
   "metadata": {},
   "outputs": [],
   "source": [
    "# Convert file with custom chunks and compression\n",
    "chunks = {'time': 2, 'elements': 320}  # Example chunking\n",
    "metadata = converter.to_zarr(\n",
    "    data_path, \n",
    "    zarr_path,\n",
    "    chunks=chunks,\n",
    "    compression_level=7\n",
    ")"
   ]
  },
  {
   "cell_type": "code",
   "execution_count": 3,
   "metadata": {},
   "outputs": [
    {
     "name": "stderr",
     "output_type": "stream",
     "text": [
      "/home/jan/src/DataCatalogue/notebooks/../src/zarrcatalogue/converters/mike.py:201: FutureWarning: Pass mode=r as keyword args. From version 3.1.0 passing these as positional arguments will result in an error\n",
      "  store = zarr.open(zarr_path, 'r')\n"
     ]
    },
    {
     "data": {
      "text/plain": [
       "{'model_type': 'MIKE',\n",
       " 'converter_version': '0.1.0',\n",
       " 'conversion_time': '2025-03-31T17:34:25.936858',\n",
       " 'input_file': 'oresundHD_run1.zarr',\n",
       " 'output_file': 'foo.dfsu',\n",
       " 'mikeio_version': '2.4.0',\n",
       " 'geometry_type': 'GeometryFM2D',\n",
       " 'n_elements': 3612,\n",
       " 'n_nodes': 2046,\n",
       " 'n_timesteps': 5,\n",
       " 'variables': ['U velocity',\n",
       "  'Total water depth',\n",
       "  'Surface elevation',\n",
       "  'V velocity'],\n",
       " 'time_range': ['2018-03-07 01:00:00', '2018-03-11 01:00:00']}"
      ]
     },
     "execution_count": 3,
     "metadata": {},
     "output_type": "execute_result"
    }
   ],
   "source": [
    "converter.from_zarr(zarr_path, \"foo.dfsu\")"
   ]
  },
  {
   "cell_type": "markdown",
   "metadata": {},
   "source": [
    "# Adding to catalogue \n",
    "\n",
    "## single file"
   ]
  },
  {
   "cell_type": "code",
   "execution_count": null,
   "metadata": {},
   "outputs": [],
   "source": [
    "import sys\n",
    "sys.path.append('../src')\n",
    "# Example usage with proper JSON serialization\n",
    "from pathlib import Path\n",
    "from zarrcatalogue.catalog import SimulationCatalog\n",
    "import json\n",
    "\n",
    "# First, let's clean up any corrupted files\n",
    "import shutil\n",
    "from pathlib import Path\n",
    "\n",
    "catalog_path = Path(\"/teamspace/studios/this_studio/catalog\")\n",
    "if catalog_path.exists():\n",
    "    shutil.rmtree(catalog_path)\n",
    "\n",
    "# Initialize catalog\n",
    "catalog = SimulationCatalog(catalog_path)\n"
   ]
  },
  {
   "cell_type": "code",
   "execution_count": null,
   "metadata": {},
   "outputs": [],
   "source": [
    "\n",
    "# Add a simulation\n",
    "simulation_entry = catalog.add_simulation(\n",
    "    sim_id=\"basin_2dv_20241210\",\n",
    "    source_file=Path('/teamspace/studios/this_studio/data/basin_2dv.dfsu'),\n",
    "    metadata={\n",
    "        \"scenario\": \"baseline\",\n",
    "        \"model_version\": \"2.2.0\",\n",
    "        \"description\": \"Vertical profile simulation\"\n",
    "    },\n",
    "    tags=[\"vertical_profile\", \"baseline\"]\n",
    ")\n",
    "\n",
    "# Print the entry using the custom encoder\n",
    "print(\"Added simulation:\")\n",
    "print(json.dumps(simulation_entry, indent=2, cls=CustomJSONEncoder))"
   ]
  },
  {
   "cell_type": "markdown",
   "metadata": {},
   "source": [
    "## Bulk"
   ]
  },
  {
   "cell_type": "code",
   "execution_count": null,
   "metadata": {},
   "outputs": [],
   "source": [
    "import sys\n",
    "sys.path.append('../src')\n",
    "# Example usage with proper JSON serialization\n",
    "from pathlib import Path\n",
    "from zarrcatalogue.catalog import SimulationCatalog\n",
    "import json\n",
    "\n",
    "from typing import Dict\n",
    "from datetime import datetime\n",
    "\n",
    "\n",
    "# Initialize catalog\n",
    "catalog = SimulationCatalog(Path(\"/teamspace/studios/this_studio/catalog\"))\n",
    "\n",
    "# Optional: Define a metadata generator function\n",
    "def generate_metadata(file_path: Path) -> Dict:\n",
    "    \"\"\"Generate metadata from file path.\"\"\"\n",
    "    return {\n",
    "        \"source_file\": str(file_path),\n",
    "        \"scenario\": file_path.stem.split('_')[0],\n",
    "        \"date_processed\": datetime.now().isoformat()\n",
    "    }\n",
    "\n",
    "# Bulk import simulations\n",
    "results = catalog.bulk_import(\n",
    "    source_dir=Path(\"/teamspace/studios/this_studio/data\"),\n",
    "    pattern=\"*.dfsu\",\n",
    "    metadata_generator=generate_metadata,\n",
    "    tags=[\"bulk_import\", \"2024\"],\n",
    "    parallel=True,\n",
    "    max_workers=4,\n",
    "    skip_existing=True\n",
    ")\n",
    "\n",
    "# Print successful imports\n",
    "print(\"\\nSuccessfully imported simulations:\")\n",
    "for entry in results[\"successful\"]:\n",
    "    print(f\"- {entry['id']}: {entry['source_file']}\")"
   ]
  },
  {
   "cell_type": "markdown",
   "metadata": {},
   "source": [
    "# Search, Analyze catalogue\n",
    "\n",
    "## summary / overview"
   ]
  },
  {
   "cell_type": "code",
   "execution_count": null,
   "metadata": {},
   "outputs": [],
   "source": [
    "from zarrcatalogue.catalog import SimulationCatalog\n",
    "\n",
    "catalog = SimulationCatalog(Path(\"/teamspace/studios/this_studio/catalog\"))"
   ]
  },
  {
   "cell_type": "code",
   "execution_count": null,
   "metadata": {},
   "outputs": [],
   "source": [
    "print(catalog.get_summary())"
   ]
  },
  {
   "cell_type": "markdown",
   "metadata": {},
   "source": [
    "## search"
   ]
  },
  {
   "cell_type": "code",
   "execution_count": null,
   "metadata": {},
   "outputs": [],
   "source": [
    "# Search catalog\n",
    "results = catalog.search(\n",
    "    geometry_type=\"GeometryFM2D\",\n",
    "    #variables=[\"U velocity\"],\n",
    "    #tags=[\"baseline\"]\n",
    ")\n",
    "results\n"
   ]
  },
  {
   "cell_type": "markdown",
   "metadata": {},
   "source": [
    "# Zarr to MIKE Conversion"
   ]
  },
  {
   "cell_type": "code",
   "execution_count": null,
   "metadata": {},
   "outputs": [],
   "source": [
    "import sys\n",
    "sys.path.append('../src')\n",
    "from pathlib import Path\n",
    "from zarrcatalogue.converters.mike import MIKEConverter\n",
    "\n",
    "\n",
    "converter = MIKEConverter()\n",
    "metadata = converter.from_zarr(\n",
    "    #zarr_path=Path(\"/teamspace/studios/this_studio/catalog/simulations/basin_2dv/data.zarr\"),\n",
    "    #output_file=Path(\"/teamspace/studios/this_studio/data/basin_2dv_backconversion.dfsu\")\n",
    "    zarr_path=Path(\"/teamspace/studios/this_studio/catalog/simulations/oresundHD_run1/data.zarr\"),\n",
    "    output_file=Path(\"/teamspace/studios/this_studio/data/oresundHD_run1_backconversion.dfsu\")\n",
    ")"
   ]
  },
  {
   "cell_type": "code",
   "execution_count": null,
   "metadata": {},
   "outputs": [],
   "source": [
    "# reload the converted file and compare to original\n",
    "import mikeio\n",
    "\n",
    "ds = mikeio.read(\"/teamspace/studios/this_studio/data/oresundHD_run1.dfsu\")\n",
    "ds_backconversion = mikeio.read(\"/teamspace/studios/this_studio/data/oresundHD_run1_backconversion.dfsu\")\n",
    "display(ds, ds_backconversion)"
   ]
  }
 ],
 "metadata": {
  "kernelspec": {
   "display_name": ".venv",
   "language": "python",
   "name": "python3"
  },
  "language_info": {
   "codemirror_mode": {
    "name": "ipython",
    "version": 3
   },
   "file_extension": ".py",
   "mimetype": "text/x-python",
   "name": "python",
   "nbconvert_exporter": "python",
   "pygments_lexer": "ipython3",
   "version": "3.13.0"
  }
 },
 "nbformat": 4,
 "nbformat_minor": 2
}
